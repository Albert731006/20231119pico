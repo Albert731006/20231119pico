{
 "cells": [
  {
   "cell_type": "code",
   "execution_count": 1,
   "metadata": {},
   "outputs": [
    {
     "name": "stdout",
     "output_type": "stream",
     "text": [
      "Hellow! World!\n"
     ]
    }
   ],
   "source": [
    "print(\"Hellow! World!\")"
   ]
  },
  {
   "cell_type": "code",
   "execution_count": 1,
   "metadata": {},
   "outputs": [
    {
     "data": {
      "text/plain": [
       "15"
      ]
     },
     "execution_count": 1,
     "metadata": {},
     "output_type": "execute_result"
    }
   ],
   "source": [
    "n = 10 \n",
    "n = n + 5\n",
    "n"
   ]
  },
  {
   "cell_type": "code",
   "execution_count": 2,
   "metadata": {},
   "outputs": [
    {
     "data": {
      "text/plain": [
       "15"
      ]
     },
     "execution_count": 2,
     "metadata": {},
     "output_type": "execute_result"
    }
   ],
   "source": [
    "n = 10\n",
    "n += 5\n",
    "n"
   ]
  },
  {
   "cell_type": "code",
   "execution_count": 3,
   "metadata": {},
   "outputs": [
    {
     "data": {
      "text/plain": [
       "7.0"
      ]
     },
     "execution_count": 3,
     "metadata": {},
     "output_type": "execute_result"
    }
   ],
   "source": [
    "#0, 5, 9, 14\n",
    "\n",
    "value1 = 0\n",
    "value1 += 0\n",
    "value1 += 5\n",
    "value1 += 9\n",
    "value1 += 14\n",
    "value1 / 4"
   ]
  },
  {
   "cell_type": "code",
   "execution_count": 4,
   "metadata": {},
   "outputs": [
    {
     "data": {
      "text/plain": [
       "7.0"
      ]
     },
     "execution_count": 4,
     "metadata": {},
     "output_type": "execute_result"
    }
   ],
   "source": [
    "#5, 6, 8, 9\n",
    "\n",
    "value2 = 0\n",
    "value2 += 5\n",
    "value2 += 6\n",
    "value2 += 8\n",
    "value2 += 9\n",
    "value2 / 4"
   ]
  },
  {
   "cell_type": "code",
   "execution_count": 5,
   "metadata": {},
   "outputs": [
    {
     "name": "stdout",
     "output_type": "stream",
     "text": [
      "[0, 5, 9, 14]的平均是7\n",
      "[5, 6, 8, 9]的平均是7\n"
     ]
    }
   ],
   "source": [
    "import statistics\n",
    "\n",
    "mean1 = statistics.mean([0, 5, 9, 14])\n",
    "mean2 = statistics.mean([5, 6, 8, 9])\n",
    "print(f'[0, 5, 9, 14]的平均是{mean1}')\n",
    "print(f'[5, 6, 8, 9]的平均是{mean2}')"
   ]
  },
  {
   "cell_type": "code",
   "execution_count": 7,
   "metadata": {},
   "outputs": [
    {
     "name": "stdout",
     "output_type": "stream",
     "text": [
      "[0, 5, 9, 14]的平均是7\n",
      "[0, 5, 9, 14]的標準差是5.94418483337567\n",
      "[5, 6, 8, 9]的平均是7\n",
      "[5, 6, 8, 9]的標準差是1.8257418583505538\n",
      "[7, 7, 7, 7]的平均是7\n",
      "[7, 7, 7, 7]的標準差是0.0\n"
     ]
    }
   ],
   "source": [
    "import statistics\n",
    "\n",
    "mean1 = statistics.mean([0, 5, 9, 14])\n",
    "mean2 = statistics.mean([5, 6, 8, 9])\n",
    "mean3 = statistics.mean([7, 7, 7, 7])\n",
    "std1 = statistics.stdev([0, 5, 9, 14])\n",
    "std2 = statistics.stdev([5, 6, 8, 9])\n",
    "std3 = statistics.stdev([7, 7, 7, 7])\n",
    "print(f'[0, 5, 9, 14]的平均是{mean1}')\n",
    "print(f'[0, 5, 9, 14]的標準差是{std1}')\n",
    "print(f'[5, 6, 8, 9]的平均是{mean2}')\n",
    "print(f'[5, 6, 8, 9]的標準差是{std2}')\n",
    "print(f'[7, 7, 7, 7]的平均是{mean3}')\n",
    "print(f'[7, 7, 7, 7]的標準差是{std3}')"
   ]
  }
 ],
 "metadata": {
  "kernelspec": {
   "display_name": "Python 3",
   "language": "python",
   "name": "python3"
  },
  "language_info": {
   "codemirror_mode": {
    "name": "ipython",
    "version": 3
   },
   "file_extension": ".py",
   "mimetype": "text/x-python",
   "name": "python",
   "nbconvert_exporter": "python",
   "pygments_lexer": "ipython3",
   "version": "3.10.13"
  }
 },
 "nbformat": 4,
 "nbformat_minor": 2
}
