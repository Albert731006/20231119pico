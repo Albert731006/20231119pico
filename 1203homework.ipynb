{
 "cells": [
  {
   "cell_type": "code",
   "execution_count": 9,
   "metadata": {},
   "outputs": [
    {
     "name": "stdout",
     "output_type": "stream",
     "text": [
      "輸入銷售金額100000\n",
      "打8折 實付金額是:80000.0元\n"
     ]
    }
   ],
   "source": [
    "#輸入顧客購買金額，若金額在\n",
    "#100000元打8折.\n",
    "#50000打85折.\n",
    "#30000打9折.\n",
    "#10000打95折.\n",
    "#請輸入購買金額:130000\n",
    "#實付金額是: 104000.0 元\n",
    "\n",
    "import pyinputplus as pyip\n",
    "\n",
    "Cost = pyip.inputInt('輸入銷售金額',min=0)\n",
    "print(Cost)\n",
    "\n",
    "if Cost >= 100000:\n",
    "    print(f\"打8折 實付金額是:{Cost *0.8}元\")\n",
    "elif Cost >= 50000:\n",
    "    print(f\"打8.5折 實付金額是:{Cost *0.85}元\")\n",
    "elif Cost >= 30000:\n",
    "    print(f\"打9折 實付金額是:{Cost *0.9}元\")\n",
    "elif Cost >= 10000:\n",
    "    print(f\"打9.5折 實付金額是:{Cost *0.95}元\")\n",
    "else:\n",
    "    print(f\"不打折，實付金額是:{Cost}元\")\n"
   ]
  },
  {
   "cell_type": "code",
   "execution_count": 21,
   "metadata": {},
   "outputs": [
    {
     "name": "stdout",
     "output_type": "stream",
     "text": [
      "輸入收縮壓:150 mmHg\n",
      "輸入舒張壓:70 mmHg\n",
      "suggestion :  單純收縮期高血壓\n"
     ]
    }
   ],
   "source": [
    "#血壓計量表\n",
    "# 收縮壓 < 120 and 舒張壓 < 80 ==> 正常\n",
    "# 收縮壓 120 ~ 129 and 舒張壓 < 80 ==> 血壓升高\n",
    "# 高血壓一期: 收縮壓 130 ~ 139 or 舒張壓 80 ~ 89\n",
    "# 高血壓二期: 收縮壓 >= 140 或 舒張壓 >= 90\n",
    "# 單純收縮期高血壓: 收縮壓 >= 130 and 舒張壓 < 80\n",
    "\n",
    "import pyinputplus as pyip\n",
    "sbp = pyip.inputInt(\"輸入收縮壓:\",min=0)\n",
    "print(f\"{sbp} mmHg\")\n",
    "dbp = pyip.inputInt(\"輸入舒張壓:\",min=0)\n",
    "print(f\"{dbp} mmHg\")\n",
    "\n",
    "\n",
    "if sbp < 120 and dbp < 80:\n",
    "    suggestion = \"正常\"\n",
    "elif sbp < 130 and dbp < 80:\n",
    "    suggestion = \"血壓升高\"\n",
    "elif sbp >= 130 and dbp <= 80:\n",
    "    suggestion = \"單純收縮期高血壓\"\n",
    "elif sbp < 140 or dbp < 90:\n",
    "    suggestion = \"高血壓1期\"\n",
    "elif sbp >= 140 or dbp >= 90:\n",
    "    suggestion = \"高血壓2期\"\n",
    "\n",
    "\n",
    "\n",
    "print(\"suggestion : \", suggestion)"
   ]
  }
 ],
 "metadata": {
  "kernelspec": {
   "display_name": "Python 3",
   "language": "python",
   "name": "python3"
  },
  "language_info": {
   "codemirror_mode": {
    "name": "ipython",
    "version": 3
   },
   "file_extension": ".py",
   "mimetype": "text/x-python",
   "name": "python",
   "nbconvert_exporter": "python",
   "pygments_lexer": "ipython3",
   "version": "3.10.13"
  }
 },
 "nbformat": 4,
 "nbformat_minor": 2
}
